{
 "cells": [
  {
   "cell_type": "markdown",
   "metadata": {},
   "source": [
    "# Dynamic Programming with Interpolation\n",
    "### by [Richard W. Evans](https://sites.google.com/site/rickecon/), May 2019\n",
    "The code in this Jupyter notebook was written using Python 3.7."
   ]
  },
  {
   "cell_type": "markdown",
   "metadata": {},
   "source": [
    "## 1. Introduction\n",
    "\n",
    "### 1.1. Problem setup\n",
    "Last term, we worked through an [introduction to dynamic programming](https://github.com/UC-MACSS/persp-model-econ_W19/blob/master/Notes/DynProg_Evans.pdf) in which we studied a stylized cake eating problem in order to introduce the topic and give a general structure of the problem.\n",
    "\n",
    "A general form of the Bellman equation of a recursive model is the following,\n",
    "\\begin{equation}\\label{DynProg_EqBellmanGen}\n",
    "  V(x,y) = \\max_{y'}\\:\\sigma(x,y,y') + \\beta E\\left[V(x',y')\\right]\n",
    "\\end{equation}\n",
    "where $x$ is the exogenous state (set of exogenous variables), $y$ is the endogenous state (set of choice variables), $y'$ is the control or choice variable, $\\sigma(\\cdot)$ is the period objective function, and $V(x,y)$ is the value function. The value function tells you the value to the agent of showing up in a given period with state $(x,y)$, and the value function accounts for all expected future benefits in addition to the current period benefits.\n",
    "\n",
    "In our specific cake eating problem, we built up to the infinite horizon cake eater in Section 4. The size of the cake today is $W$, the utility of consumption today $u(c)$ is some continuous, monotonic, and concave function of $c$, and the law of motion for the size of the cake is $W'=W - c$, where $W'$ is the size of the cake tomorrow. With these definitions, we characterized the infinite horizon deterministic cake eating problem in Section 4 with the following Bellman equation.\n",
    "\\begin{equation}\\label{DynProg_EqBellman}\n",
    "  V\\left(W\\right) = \\max_{W'\\in[0,W]}\\:\\: u\\left(W - W'\\right) + \\beta V\\left(W'\\right)\n",
    "\\end{equation}"
   ]
  },
  {
   "cell_type": "markdown",
   "metadata": {},
   "source": [
    "### 1.2. Value function iteration solution method\n",
    "In Section 4, we learned the conditions under which the iterative approach of value function iteration converges to the unique functional solution. We defined an operator $C(\\cdot)$ (a function that executes specific operations) on a guess for the solution to the value function $V_t(W)$.\n",
    "\\begin{equation}\\label{DynProg_EqContraction}\n",
    "  C\\Bigl(V_t\\left(W\\right)\\Bigr) \\equiv \\max_{W'\\in[0,W]}\\: u\\left(W-W'\\right) + \\beta V_t\\left(W'\\right)\n",
    "\\end{equation}\n",
    "And we showed that under certain conditions, repeating this operation iteratively on a guess for the value function creates output that converges to the functional solution of the Bellman equation."
   ]
  },
  {
   "cell_type": "markdown",
   "metadata": {},
   "source": [
    "### 1.3. Our discretized, simplified approach\n",
    "In the [dynamic programming chapter](https://github.com/UC-MACSS/persp-model-econ_W19/blob/master/Notes/DynProg_Evans.pdf) from last term, we used a simplified approach in which we only allowed a discrete number of cake sizes for the solution.\n",
    "\\begin{equation}\n",
    "  \\underset{\\begin{bmatrix}W_1 \\\\ W_2 \\\\ \\vdots \\\\ W_N\\end{bmatrix}}{W,W'},\\qquad \\underset{\\begin{bmatrix}V_{t+1}(W_1) \\\\ V_{t+1}(W_2) \\\\ \\vdots \\\\ V_{t+1}(W_N)\\end{bmatrix} =}{V_{t+1}(W)} = \\max_{W'\\in[0,W]}\\underset{\\begin{bmatrix}-10^{10} & -10^{10} & ... & -10^{10} \\\\ u(W_2 - W_1) & -10^{10} & ... & -10^{10} \\\\ \\vdots & \\vdots & \\ddots & \\vdots \\\\ u(W_N-W_1) & u(W_N - W_2) & ... & -10^{10}\\end{bmatrix}}{u(W-W')} + \\underset{+\\beta\\begin{bmatrix}-10^{10} & -10^{10} & ... & -10^{10} \\\\ V_t(W_1) & -10^{10} & ... & -10^{10} \\\\ \\vdots & \\vdots & \\ddots & \\vdots \\\\ V_t(W_1) & V_t(W_2) & ... & -10^{10}\\end{bmatrix}}{\\beta V_t(W')}\n",
    "\\end{equation}"
   ]
  },
  {
   "cell_type": "markdown",
   "metadata": {},
   "source": [
    "## 2. Interpolation instead of discrete support for control\n",
    "In this solution method with interpolation, we still have to discretize our guess for the state space $W$. But we will allow for our control variable $W'$ to be a continuum between 0 and $W$. Let's go back to the contraction version of our problem.\n",
    "\\begin{equation}\\label{DynProg_EqContraction}\n",
    "  V_{t+1}(W) = C\\Bigl(V_t\\left(W\\right)\\Bigr) \\equiv \\max_{W'\\in[0,W]}\\: u\\left(W-W'\\right) + \\beta V_t\\left(W'\\right)\n",
    "\\end{equation}\n",
    "\n",
    "The steps to solving each iteration are similar.\n",
    "1. Choose a discrete grid for cake size $W = [W_1, W_2, ... W_N]^T$, where $W_1 > 0$ and $W_N\\leq W_{max}$.\n",
    "2. Guess an initial value function over this grid $V_t(W)$."
   ]
  },
  {
   "cell_type": "markdown",
   "metadata": {},
   "source": [
    "### 2.1. Solving the Bellman for one initial point\n",
    "Now imagine trying to solve the equation above for one particular cakesize.\n",
    "\\begin{equation}\n",
    "  V_{t+1}(W_{10}) = \\max_{W'\\in[0,W_{10}]}\\: u\\left(W_{10}-W'\\right) + \\beta V_t\\left(W'\\right)\n",
    "\\end{equation}\n",
    "What do we know? We know the cake size today $W_{10}$. And we know our guess for the entire value function $V_t(W)$, where our guess is for the value function at all of the discrete points in $W$. So the objects in the equation above are a scalar, a continuous utility function $u(W_{10}-W')$ of one variable $W'$, and a value function $V_t\\left(W'\\right)$ of one variable $W'$--a function that is currently discrete, but that we want to be continuous. Here is where we use interpolation. We interpolate a continuous function of $W'$ from the discrete points of our guess $V_t(W')$. This allows us to solve for the $W'$ that exactly solves for the equation above for the current state $W_{10}$.\n",
    "\n",
    "Let the utility of consumption be CRRA with coefficient of relative risk aversion $\\gamma=2.2$. Let our discretization of the possible cake sizes $W$ be 30 equally spaced cake sizes between 0.1 and 10. And let our initial guess for the value of cake size today be $V_t(W)=\\ln(W)$."
   ]
  },
  {
   "cell_type": "code",
   "execution_count": 1,
   "metadata": {},
   "outputs": [],
   "source": [
    "import numpy as np\n",
    "import scipy.optimize as opt\n",
    "import scipy.interpolate as intpl\n",
    "import matplotlib.pyplot as plt\n",
    "%matplotlib notebook\n",
    "\n",
    "# Set up the parameters\n",
    "beta = 0.9\n",
    "gamma = 2.2\n",
    "W_min = 0.1\n",
    "W_max = 10.0\n",
    "W_size = 30\n",
    "W_vec = np.linspace(W_min, W_max, W_size)\n",
    "V_t = np.log(W_vec)\n",
    "\n",
    "def util_CRRA(W, W_pr, gamma):\n",
    "    # Define CRRA utility function\n",
    "    c = W - W_pr\n",
    "    util = (c ** (1 - gamma) - 1) / (1 - gamma)\n",
    "    \n",
    "    return util\n",
    "\n",
    "def neg_V(W_pr, *args):\n",
    "    W_init, util, V_t_interp, gamma, beta = args\n",
    "    Vtp1 = util(W_init, W_pr, gamma) + beta * V_t_interp(W_pr)\n",
    "    neg_Vtp1 = -Vtp1\n",
    "    \n",
    "    return neg_Vtp1"
   ]
  },
  {
   "cell_type": "code",
   "execution_count": 2,
   "metadata": {},
   "outputs": [],
   "source": [
    "# Do the interpolation outside the minimization because it\n",
    "# doesn't change for different W' cake sizes\n",
    "V_t_interp = intpl.interp1d(W_vec, V_t, kind='cubic', fill_value='extrapolate')"
   ]
  },
  {
   "cell_type": "markdown",
   "metadata": {},
   "source": [
    "Look at what the interpolation function does to our discretized guess."
   ]
  },
  {
   "cell_type": "code",
   "execution_count": 3,
   "metadata": {},
   "outputs": [
    {
     "data": {
      "text/plain": [
       "<matplotlib.legend.Legend at 0x1088d91d0>"
      ]
     },
     "execution_count": 3,
     "metadata": {},
     "output_type": "execute_result"
    },
    {
     "data": {
      "image/png": "[encoded data removed]",
      "text/plain": [
       "<Figure size 432x288 with 1 Axes>"
      ]
     },
     "metadata": {
      "needs_background": "light"
     },
     "output_type": "display_data"
    }
   ],
   "source": [
    "W_vec_lots = np.linspace(0.5* W_min, 1.5 * W_max, 1000)\n",
    "plt.plot(W_vec_lots, V_t_interp(W_vec_lots), label='interpolated func.')\n",
    "plt.scatter(W_vec, V_t, color='red', label='discrete values')\n",
    "plt.title('Interpolated function for discrete $V_t(W)$')\n",
    "plt.xlabel('Cake size $W$')\n",
    "plt.ylabel('Value function $V_t(W)$')\n",
    "plt.legend(loc='center right')"
   ]
  },
  {
   "cell_type": "code",
   "execution_count": 4,
   "metadata": {},
   "outputs": [
    {
     "name": "stdout",
     "output_type": "stream",
     "text": [
      "     fun: -0.9519492043004409\n",
      " message: 'Solution found.'\n",
      "    nfev: 10\n",
      "  status: 0\n",
      " success: True\n",
      "       x: 2.05675794339993\n"
     ]
    }
   ],
   "source": [
    "# Solve for optimal W_pr given W_init and a guess for the value function\n",
    "W_init = W_vec[10]\n",
    "\n",
    "V_args = (W_init, util_CRRA, V_t_interp, gamma, beta)\n",
    "results_one = opt.minimize_scalar(neg_V, bounds=(1e-10, W_init - 1e-10), args=V_args, method='bounded')\n",
    "print(results_one)"
   ]
  },
  {
   "cell_type": "markdown",
   "metadata": {},
   "source": [
    "The optimal cake size gives us one point of our policy function $W' = \\psi(W_{10})$. Note that the optimal $W'$ is not in the discretized support of $W$."
   ]
  },
  {
   "cell_type": "code",
   "execution_count": 5,
   "metadata": {},
   "outputs": [
    {
     "name": "stdout",
     "output_type": "stream",
     "text": [
      "W_init= 3.513793103448276 , W_pr= 2.05675794339993\n"
     ]
    }
   ],
   "source": [
    "print('W_init=', W_init, ', W_pr=', results_one.x)"
   ]
  },
  {
   "cell_type": "markdown",
   "metadata": {},
   "source": [
    "Now we can calculate the value of coming into the period with cake size $W_{10}$. It is simply the negative of the function value above."
   ]
  },
  {
   "cell_type": "code",
   "execution_count": 6,
   "metadata": {},
   "outputs": [
    {
     "name": "stdout",
     "output_type": "stream",
     "text": [
      "V_tp1_10= 0.9519492043004409\n"
     ]
    }
   ],
   "source": [
    "V_tp1_10 = -results_one.fun\n",
    "print('V_tp1_10=', V_tp1_10)"
   ]
  },
  {
   "cell_type": "markdown",
   "metadata": {},
   "source": [
    "How does this compare to our initial guess for the value of coming in to the period with cake size $V_t(W_{10})$?"
   ]
  },
  {
   "cell_type": "code",
   "execution_count": 7,
   "metadata": {},
   "outputs": [
    {
     "name": "stdout",
     "output_type": "stream",
     "text": [
      "V_t_10 guess= 1.2566961102422052 , and V_tp1_10= 0.9519492043004409\n"
     ]
    }
   ],
   "source": [
    "print('V_t_10 guess=', V_t[10], ', and V_tp1_10=', V_tp1_10)"
   ]
  },
  {
   "cell_type": "markdown",
   "metadata": {},
   "source": [
    "### 2.2. Solving the Bellman for all points in the support\n",
    "The next step is obviously to solve the operator for all points in the discretized support of cake size $W$."
   ]
  },
  {
   "cell_type": "code",
   "execution_count": 8,
   "metadata": {},
   "outputs": [],
   "source": [
    "V_tp1_vec = np.zeros(W_size)\n",
    "psi_vec = np.zeros(W_size)\n",
    "\n",
    "for W_ind in range(W_size):\n",
    "    W_init = W_vec[W_ind]\n",
    "    V_args = (W_init, util_CRRA, V_t_interp, gamma, beta)\n",
    "    results_all = opt.minimize_scalar(neg_V, bounds=(1e-10, W_init - 1e-10), args=V_args, method='bounded')\n",
    "    V_tp1_vec[W_ind] = -results_all.fun\n",
    "    psi_vec[W_ind] = results_all.x"
   ]
  },
  {
   "cell_type": "code",
   "execution_count": 9,
   "metadata": {},
   "outputs": [
    {
     "data": {
      "text/plain": [
       "<matplotlib.legend.Legend at 0x12294c240>"
      ]
     },
     "execution_count": 9,
     "metadata": {},
     "output_type": "execute_result"
    },
    {
     "data": {
      "image/png": "[encoded data removed]",
      "text/plain": [
       "<Figure size 432x288 with 1 Axes>"
      ]
     },
     "metadata": {
      "needs_background": "light"
     },
     "output_type": "display_data"
    }
   ],
   "source": [
    "# Plot the new and initial value functions\n",
    "plt.plot(W_vec, V_tp1_vec, label='New value function')\n",
    "plt.plot(W_vec, V_t, label='Initial guess value function')\n",
    "plt.title('New vs. initial value function')\n",
    "plt.xlabel('Cake size $W$')\n",
    "plt.ylabel('Value function $V(W)$')\n",
    "plt.legend(loc='center right')"
   ]
  },
  {
   "cell_type": "code",
   "execution_count": 10,
   "metadata": {},
   "outputs": [
    {
     "data": {
      "text/plain": [
       "<matplotlib.legend.Legend at 0x122b00908>"
      ]
     },
     "execution_count": 10,
     "metadata": {},
     "output_type": "execute_result"
    },
    {
     "data": {
      "image/png": "[encoded data removed]",
      "text/plain": [
       "<Figure size 432x288 with 1 Axes>"
      ]
     },
     "metadata": {
      "needs_background": "light"
     },
     "output_type": "display_data"
    }
   ],
   "source": [
    "# Plot the resulting policy function\n",
    "plt.plot(W_vec, psi_vec, label='Policy function $W^{pr}=\\psi(W)$')\n",
    "plt.plot(W_vec, W_vec, color='black', linewidth=1, linestyle='--',\n",
    "         label='45-degree line')\n",
    "plt.title('Cake size tomorrow policy function $\\psi(W)$')\n",
    "plt.xlabel('Cake size $W$')\n",
    "plt.ylabel('Policy function $W^{pr}=\\psi(W)$')\n",
    "plt.legend()"
   ]
  },
  {
   "cell_type": "markdown",
   "metadata": {},
   "source": [
    "### 2.3. Do value function iteration with interpolation\n",
    "Now we just need to update our guess and repeat until convergence."
   ]
  },
  {
   "cell_type": "code",
   "execution_count": 11,
   "metadata": {},
   "outputs": [
    {
     "name": "stdout",
     "output_type": "stream",
     "text": [
      "VF_iter= 1 , VF_dist= 183.49767611191382\n",
      "VF_iter= 2 , VF_dist= 382.09735456944736\n",
      "VF_iter= 3 , VF_dist= 518.9591988798102\n",
      "VF_iter= 4 , VF_dist= 612.977015773207\n",
      "VF_iter= 5 , VF_dist= 669.539356858435\n",
      "VF_iter= 6 , VF_dist= 694.7420303913703\n",
      "VF_iter= 7 , VF_dist= 694.9947939190705\n",
      "VF_iter= 8 , VF_dist= 676.3121149521519\n",
      "VF_iter= 9 , VF_dist= 644.028511974077\n",
      "VF_iter= 10 , VF_dist= 602.6547311400191\n",
      "VF_iter= 11 , VF_dist= 555.7434817510798\n",
      "VF_iter= 12 , VF_dist= 506.13837741381553\n",
      "VF_iter= 13 , VF_dist= 456.23445764810396\n",
      "VF_iter= 14 , VF_dist= 407.8051419811281\n",
      "VF_iter= 15 , VF_dist= 361.58215403025264\n",
      "VF_iter= 16 , VF_dist= 318.3651932670016\n",
      "VF_iter= 17 , VF_dist= 278.6141247483097\n",
      "VF_iter= 18 , VF_dist= 242.53447574896705\n",
      "VF_iter= 19 , VF_dist= 210.14657376790794\n",
      "VF_iter= 20 , VF_dist= 181.33781003300092\n",
      "VF_iter= 21 , VF_dist= 155.90693655710933\n",
      "VF_iter= 22 , VF_dist= 133.59979397946057\n",
      "VF_iter= 23 , VF_dist= 114.13655624737534\n",
      "VF_iter= 24 , VF_dist= 97.23126714693095\n",
      "VF_iter= 25 , VF_dist= 82.60486234790824\n",
      "VF_iter= 26 , VF_dist= 69.99316274437476\n",
      "VF_iter= 27 , VF_dist= 59.15141510418834\n",
      "VF_iter= 28 , VF_dist= 49.85657859202405\n",
      "VF_iter= 29 , VF_dist= 41.908006910329505\n",
      "VF_iter= 30 , VF_dist= 35.12698644505692\n",
      "VF_iter= 31 , VF_dist= 29.35558170716669\n",
      "VF_iter= 32 , VF_dist= 24.4550945591451\n",
      "VF_iter= 33 , VF_dist= 20.30431942137867\n",
      "VF_iter= 34 , VF_dist= 16.797737380000648\n",
      "VF_iter= 35 , VF_dist= 13.843745222597894\n",
      "VF_iter= 36 , VF_dist= 11.362978997901571\n",
      "VF_iter= 37 , VF_dist= 9.286770276174677\n",
      "VF_iter= 38 , VF_dist= 7.5557536098786535\n",
      "VF_iter= 39 , VF_dist= 6.1186303995701605\n",
      "VF_iter= 40 , VF_dist= 4.931084842238997\n",
      "VF_iter= 41 , VF_dist= 3.954841338583281\n",
      "VF_iter= 42 , VF_dist= 3.156849443182698\n",
      "VF_iter= 43 , VF_dist= 2.5085813984785346\n",
      "VF_iter= 44 , VF_dist= 1.9854281415728918\n",
      "VF_iter= 45 , VF_dist= 1.5661818559862892\n",
      "VF_iter= 46 , VF_dist= 1.2325960585144666\n",
      "VF_iter= 47 , VF_dist= 0.9690167986873636\n",
      "VF_iter= 48 , VF_dist= 0.7620793118928071\n",
      "VF_iter= 49 , VF_dist= 0.6004620163349246\n",
      "VF_iter= 50 , VF_dist= 0.4746842176503249\n",
      "VF_iter= 51 , VF_dist= 0.3769282634734336\n",
      "VF_iter= 52 , VF_dist= 0.30086597345101485\n",
      "VF_iter= 53 , VF_dist= 0.24147571553439903\n",
      "VF_iter= 54 , VF_dist= 0.19484809130679473\n",
      "VF_iter= 55 , VF_dist= 0.15798871876387563\n",
      "VF_iter= 56 , VF_dist= 0.12863122610193709\n",
      "VF_iter= 57 , VF_dist= 0.10507185198181065\n",
      "VF_iter= 58 , VF_dist= 0.08603187314031617\n",
      "VF_iter= 59 , VF_dist= 0.07054872827145932\n",
      "VF_iter= 60 , VF_dist= 0.05789302112272781\n",
      "VF_iter= 61 , VF_dist= 0.047506875996826965\n",
      "VF_iter= 62 , VF_dist= 0.03895887932557147\n",
      "VF_iter= 63 , VF_dist= 0.0319114012470041\n",
      "VF_iter= 64 , VF_dist= 0.02609693694101599\n",
      "VF_iter= 65 , VF_dist= 0.021300941380646945\n",
      "VF_iter= 66 , VF_dist= 0.017349325199692893\n",
      "VF_iter= 67 , VF_dist= 0.014099305248856426\n",
      "VF_iter= 68 , VF_dist= 0.01143268034714491\n",
      "VF_iter= 69 , VF_dist= 0.00925086507283066\n",
      "VF_iter= 70 , VF_dist= 0.007471196100386791\n",
      "VF_iter= 71 , VF_dist= 0.0060241534675158056\n",
      "VF_iter= 72 , VF_dist= 0.004851232283577423\n",
      "VF_iter= 73 , VF_dist= 0.003903270881257577\n",
      "VF_iter= 74 , VF_dist= 0.0031390962424220088\n",
      "VF_iter= 75 , VF_dist= 0.0025243904448413283\n",
      "VF_iter= 76 , VF_dist= 0.0020307148605115256\n",
      "VF_iter= 77 , VF_dist= 0.0016346531462527417\n",
      "VF_iter= 78 , VF_dist= 0.00131705084521582\n",
      "VF_iter= 79 , VF_dist= 0.0010623399416256297\n",
      "VF_iter= 80 , VF_dist= 0.0008579423985075493\n",
      "VF_iter= 81 , VF_dist= 0.0006937489950687418\n",
      "VF_iter= 82 , VF_dist= 0.0005616699711710075\n",
      "VF_iter= 83 , VF_dist= 0.0004552531391757421\n",
      "VF_iter= 84 , VF_dist= 0.00036936399645683897\n",
      "VF_iter= 85 , VF_dist= 0.0002999214300375534\n",
      "VF_iter= 86 , VF_dist= 0.0002436820680703563\n",
      "VF_iter= 87 , VF_dist= 0.00019806624543737417\n",
      "VF_iter= 88 , VF_dist= 0.00016101885019365237\n",
      "VF_iter= 89 , VF_dist= 0.00013089889331535274\n",
      "VF_iter= 90 , VF_dist= 0.00010639237786269115\n",
      "VF_iter= 91 , VF_dist= 8.644383390627166e-05\n",
      "VF_iter= 92 , VF_dist= 7.020265726278495e-05\n",
      "VF_iter= 93 , VF_dist= 5.69810965209625e-05\n",
      "VF_iter= 94 , VF_dist= 4.622135003885195e-05\n",
      "VF_iter= 95 , VF_dist= 3.7469756067418596e-05\n",
      "VF_iter= 96 , VF_dist= 3.035648893794285e-05\n",
      "VF_iter= 97 , VF_dist= 2.457952214695179e-05\n",
      "VF_iter= 98 , VF_dist= 1.9891897095894003e-05\n",
      "VF_iter= 99 , VF_dist= 1.609155605326112e-05\n",
      "VF_iter= 100 , VF_dist= 1.3013170235174189e-05\n",
      "VF_iter= 101 , VF_dist= 1.0521527956726612e-05\n",
      "VF_iter= 102 , VF_dist= 8.506151112902657e-06\n",
      "VF_iter= 103 , VF_dist= 6.876887182055937e-06\n",
      "VF_iter= 104 , VF_dist= 5.560283592788599e-06\n",
      "VF_iter= 105 , VF_dist= 4.496595958453799e-06\n",
      "VF_iter= 106 , VF_dist= 3.6373148618094187e-06\n",
      "VF_iter= 107 , VF_dist= 2.943120386594329e-06\n",
      "VF_iter= 108 , VF_dist= 2.3821917346379976e-06\n",
      "VF_iter= 109 , VF_dist= 1.9288128011345823e-06\n",
      "VF_iter= 110 , VF_dist= 1.562224857236001e-06\n",
      "VF_iter= 111 , VF_dist= 1.2656854759252322e-06\n",
      "VF_iter= 112 , VF_dist= 1.0256992402137606e-06\n",
      "VF_iter= 113 , VF_dist= 8.313910565591566e-07\n",
      "VF_iter= 114 , VF_dist= 6.739973459811794e-07\n",
      "VF_iter= 115 , VF_dist= 5.464542251124879e-07\n",
      "VF_iter= 116 , VF_dist= 4.4306510029675934e-07\n",
      "VF_iter= 117 , VF_dist= 3.592329770511729e-07\n",
      "VF_iter= 118 , VF_dist= 2.9124527364770034e-07\n",
      "VF_iter= 119 , VF_dist= 2.361010618579525e-07\n",
      "VF_iter= 120 , VF_dist= 1.9137247335468101e-07\n",
      "VF_iter= 121 , VF_dist= 1.5509354114808103e-07\n",
      "VF_iter= 122 , VF_dist= 1.2567102163539616e-07\n",
      "VF_iter= 123 , VF_dist= 1.0181280249370714e-07\n",
      "VF_iter= 124 , VF_dist= 8.247036579733056e-08\n",
      "VF_iter= 125 , VF_dist= 6.679248360585925e-08\n",
      "VF_iter= 126 , VF_dist= 5.4087893718213473e-08\n",
      "VF_iter= 127 , VF_dist= 4.3795162071555565e-08\n",
      "VF_iter= 128 , VF_dist= 3.545830551656432e-08\n",
      "VF_iter= 129 , VF_dist= 2.8707040658004538e-08\n",
      "VF_iter= 130 , VF_dist= 2.324075644041295e-08\n",
      "VF_iter= 131 , VF_dist= 1.881549122416739e-08\n",
      "VF_iter= 132 , VF_dist= 1.5233340635719092e-08\n",
      "VF_iter= 133 , VF_dist= 1.2333835778384428e-08\n",
      "VF_iter= 134 , VF_dist= 9.986922931591256e-09\n"
     ]
    }
   ],
   "source": [
    "V_init = np.log(W_vec)\n",
    "V_new = V_init.copy()\n",
    "\n",
    "VF_iter = 0\n",
    "VF_dist = 10\n",
    "VF_maxiter = 200\n",
    "VF_mindist = 1e-8\n",
    "\n",
    "while (VF_iter < VF_maxiter) and (VF_dist > VF_mindist):\n",
    "    VF_iter += 1\n",
    "    V_init = V_new.copy()\n",
    "    V_new = np.zeros(W_size)\n",
    "    psi_vec = np.zeros(W_size)\n",
    "    \n",
    "    V_init_interp = intpl.interp1d(W_vec, V_init, kind='cubic',\n",
    "                                   fill_value='extrapolate')\n",
    "\n",
    "    for W_ind in range(W_size):\n",
    "        W_init = W_vec[W_ind]\n",
    "        V_args = (W_init, util_CRRA, V_init_interp, gamma, beta)\n",
    "        results_all = opt.minimize_scalar(neg_V, bounds=(1e-10, W_init - 1e-10),\n",
    "                                          args=V_args, method='bounded')\n",
    "        V_new[W_ind] = -results_all.fun\n",
    "        psi_vec[W_ind] = results_all.x\n",
    "    \n",
    "    VF_dist = ((V_init - V_new) ** 2).sum()\n",
    "    print('VF_iter=', VF_iter, ', VF_dist=', VF_dist)"
   ]
  },
  {
   "cell_type": "code",
   "execution_count": 14,
   "metadata": {},
   "outputs": [
    {
     "data": {
      "text/plain": [
       "<matplotlib.legend.Legend at 0x122cf3ac8>"
      ]
     },
     "execution_count": 14,
     "metadata": {},
     "output_type": "execute_result"
    },
    {
     "data": {
      "image/png": "[encoded data removed]",
      "text/plain": [
       "<Figure size 432x288 with 1 Axes>"
      ]
     },
     "metadata": {
      "needs_background": "light"
     },
     "output_type": "display_data"
    }
   ],
   "source": [
    "# Plot the resulting policy function\n",
    "plt.plot(W_vec, psi_vec, label='Policy function $W^{pr}=\\psi(W)$')\n",
    "plt.plot(W_vec, W_vec, color='black', linewidth=1, linestyle='--',\n",
    "         label='45-degree line')\n",
    "plt.title('Cake size tomorrow policy function $\\psi(W)$')\n",
    "plt.xlabel('Cake size $W$')\n",
    "plt.ylabel('Policy function $W^{pr}=\\psi(W)$')\n",
    "plt.legend()"
   ]
  },
  {
   "cell_type": "code",
   "execution_count": 15,
   "metadata": {},
   "outputs": [
    {
     "data": {
      "text/plain": [
       "Text(0, 0.5, 'Value function $V(W)$')"
      ]
     },
     "execution_count": 15,
     "metadata": {},
     "output_type": "execute_result"
    },
    {
     "data": {
      "image/png": "[encoded data removed]",
      "text/plain": [
       "<Figure size 432x288 with 1 Axes>"
      ]
     },
     "metadata": {
      "needs_background": "light"
     },
     "output_type": "display_data"
    }
   ],
   "source": [
    "# Plot the equilibrium value function\n",
    "plt.plot(W_vec, V_new)\n",
    "plt.title('Equilibrium value function $V(W)$')\n",
    "plt.xlabel('Cake size $W$')\n",
    "plt.ylabel('Value function $V(W)$')"
   ]
  },
  {
   "cell_type": "markdown",
   "metadata": {},
   "source": [
    "## 3. Solving problem with stochastic utility\n",
    "In this section, I will give you the intuition and outline of how to solve the cake eating problem with i.i.d. stochastic utility shocks from Section 5 of the [dynamic programming introduction](https://github.com/UC-MACSS/persp-model-econ_W19/blob/master/Notes/DynProg_Evans.pdf) and the probelm with persistent stochastic utility shocks from Section 6 of the [dynamic programming introduction](https://github.com/UC-MACSS/persp-model-econ_W19/blob/master/Notes/DynProg_Evans.pdf). You will solve these as your problem set."
   ]
  },
  {
   "cell_type": "code",
   "execution_count": 16,
   "metadata": {},
   "outputs": [],
   "source": [
    "eps_vec = np.array([-1.40, -0.55,0.00,0.55,1.4])\n",
    "eps_prob = np.array([0.1,0.2,0.4,0.2,0.1])\n",
    "eps_size = eps_vec.shape[0]"
   ]
  },
  {
   "cell_type": "code",
   "execution_count": 17,
   "metadata": {},
   "outputs": [],
   "source": [
    "def neg_V_iid(W_pr, *args):\n",
    "    W_init, eps, util, EXP_V_t_interp, gamma, beta = args\n",
    "    Vtp1 = np.exp(eps) * util(W, W_pr, gamma) + beta * EXP_V_t_interp(W_pr)\n",
    "    neg_Vtp1 = -Vtp1\n",
    "    \n",
    "    return neg_Vtp1"
   ]
  },
  {
   "cell_type": "code",
   "execution_count": 26,
   "metadata": {},
   "outputs": [
    {
     "name": "stdout",
     "output_type": "stream",
     "text": [
      "VF_iter= 1 , VF_dist= 3494.416552492849\n",
      "VF_iter= 2 , VF_dist= 3288.9775602179398\n",
      "VF_iter= 3 , VF_dist= 4368.033199294504\n",
      "VF_iter= 4 , VF_dist= 5171.123172733101\n",
      "VF_iter= 5 , VF_dist= 5690.816865389136\n",
      "VF_iter= 6 , VF_dist= 5962.334129328164\n",
      "VF_iter= 7 , VF_dist= 6029.41086344141\n",
      "VF_iter= 8 , VF_dist= 5938.006359170563\n",
      "VF_iter= 9 , VF_dist= 5728.733568262048\n",
      "VF_iter= 10 , VF_dist= 5436.0895918287815\n",
      "VF_iter= 11 , VF_dist= 5088.450567375282\n",
      "VF_iter= 12 , VF_dist= 4708.595711208244\n",
      "VF_iter= 13 , VF_dist= 4314.42587097833\n",
      "VF_iter= 14 , VF_dist= 3919.652986508642\n",
      "VF_iter= 15 , VF_dist= 3534.453890339967\n",
      "VF_iter= 16 , VF_dist= 3166.071779909474\n",
      "VF_iter= 17 , VF_dist= 2819.372405911818\n",
      "VF_iter= 18 , VF_dist= 2497.3313722144326\n",
      "VF_iter= 19 , VF_dist= 2201.4557625474285\n",
      "VF_iter= 20 , VF_dist= 1932.139917895233\n",
      "VF_iter= 21 , VF_dist= 1688.959663806459\n",
      "VF_iter= 22 , VF_dist= 1470.9108719157214\n",
      "VF_iter= 23 , VF_dist= 1276.5993702276612\n",
      "VF_iter= 24 , VF_dist= 1104.3893159738705\n",
      "VF_iter= 25 , VF_dist= 952.5168794056202\n",
      "VF_iter= 26 , VF_dist= 819.1754636557837\n",
      "VF_iter= 27 , VF_dist= 702.5782302191251\n",
      "VF_iter= 28 , VF_dist= 601.000763999818\n",
      "VF_iter= 29 , VF_dist= 512.8120804048998\n",
      "VF_iter= 30 , VF_dist= 436.4919599689938\n",
      "VF_iter= 31 , VF_dist= 370.6409403944845\n",
      "VF_iter= 32 , VF_dist= 313.9837850771998\n",
      "VF_iter= 33 , VF_dist= 265.3683790553935\n",
      "VF_iter= 34 , VF_dist= 223.7614262616882\n",
      "VF_iter= 35 , VF_dist= 188.24202140833773\n",
      "VF_iter= 36 , VF_dist= 157.99391929400326\n",
      "VF_iter= 37 , VF_dist= 132.29712064196067\n",
      "VF_iter= 38 , VF_dist= 110.51922993678369\n",
      "VF_iter= 39 , VF_dist= 92.10691083375622\n",
      "VF_iter= 40 , VF_dist= 76.57766324528669\n",
      "VF_iter= 41 , VF_dist= 63.512068135770335\n",
      "VF_iter= 42 , VF_dist= 52.546586981379654\n",
      "VF_iter= 43 , VF_dist= 43.366959069694076\n",
      "VF_iter= 44 , VF_dist= 35.70220807919047\n",
      "VF_iter= 45 , VF_dist= 29.319247051571924\n",
      "VF_iter= 46 , VF_dist= 24.018055757035718\n",
      "VF_iter= 47 , VF_dist= 19.627394799414184\n",
      "VF_iter= 48 , VF_dist= 16.0010152142325\n",
      "VF_iter= 49 , VF_dist= 13.014319735746252\n",
      "VF_iter= 50 , VF_dist= 10.56143149616123\n",
      "VF_iter= 51 , VF_dist= 8.552627061405595\n",
      "VF_iter= 52 , VF_dist= 6.912092964935958\n",
      "VF_iter= 53 , VF_dist= 5.57596785953462\n",
      "VF_iter= 54 , VF_dist= 4.490635846895444\n",
      "VF_iter= 55 , VF_dist= 3.611240167867454\n",
      "VF_iter= 56 , VF_dist= 2.9003900724269385\n",
      "VF_iter= 57 , VF_dist= 2.327037153717032\n",
      "VF_iter= 58 , VF_dist= 1.8655005992876996\n",
      "VF_iter= 59 , VF_dist= 1.494623594120658\n",
      "VF_iter= 60 , VF_dist= 1.1970454632795113\n",
      "VF_iter= 61 , VF_dist= 0.9585760728652208\n",
      "VF_iter= 62 , VF_dist= 0.7676605629600965\n",
      "VF_iter= 63 , VF_dist= 0.6149237330663301\n",
      "VF_iter= 64 , VF_dist= 0.4927844192422183\n",
      "VF_iter= 65 , VF_dist= 0.3951310655435588\n",
      "VF_iter= 66 , VF_dist= 0.31705046239950774\n",
      "VF_iter= 67 , VF_dist= 0.25460234391732917\n",
      "VF_iter= 68 , VF_dist= 0.20463323107505646\n",
      "VF_iter= 69 , VF_dist= 0.1646235882164517\n",
      "VF_iter= 70 , VF_dist= 0.13256302627418487\n",
      "VF_iter= 71 , VF_dist= 0.10684893010197305\n",
      "VF_iter= 72 , VF_dist= 0.0862044995096469\n",
      "VF_iter= 73 , VF_dist= 0.06961276460125003\n",
      "VF_iter= 74 , VF_dist= 0.05626365791954685\n",
      "VF_iter= 75 , VF_dist= 0.04551169426005783\n",
      "VF_iter= 76 , VF_dist= 0.03684222157740305\n",
      "VF_iter= 77 , VF_dist= 0.02984456440251434\n",
      "VF_iter= 78 , VF_dist= 0.024190686856929294\n",
      "VF_iter= 79 , VF_dist= 0.019618260386442987\n",
      "VF_iter= 80 , VF_dist= 0.015917236304846365\n",
      "VF_iter= 81 , VF_dist= 0.012919200660306825\n",
      "VF_iter= 82 , VF_dist= 0.010488934004596414\n",
      "VF_iter= 83 , VF_dist= 0.008517716355129514\n",
      "VF_iter= 84 , VF_dist= 0.006918012467852352\n",
      "VF_iter= 85 , VF_dist= 0.005619248530351699\n",
      "VF_iter= 86 , VF_dist= 0.0045644519585937154\n",
      "VF_iter= 87 , VF_dist= 0.0037075740906892017\n",
      "VF_iter= 88 , VF_dist= 0.0030113536420787283\n",
      "VF_iter= 89 , VF_dist= 0.0024456088522681247\n",
      "VF_iter= 90 , VF_dist= 0.0019858699368661544\n",
      "VF_iter= 91 , VF_dist= 0.0016122821021825314\n",
      "VF_iter= 92 , VF_dist= 0.001308724048646777\n",
      "VF_iter= 93 , VF_dist= 0.0010620984074910628\n",
      "VF_iter= 94 , VF_dist= 0.0008617596246963282\n",
      "VF_iter= 95 , VF_dist= 0.0006990519398225667\n",
      "VF_iter= 96 , VF_dist= 0.0005669357206037068\n",
      "VF_iter= 97 , VF_dist= 0.0004596848484481154\n",
      "VF_iter= 98 , VF_dist= 0.00037264134335673795\n",
      "VF_iter= 99 , VF_dist= 0.00030201618672511183\n",
      "VF_iter= 100 , VF_dist= 0.0002447274935671087\n",
      "VF_iter= 101 , VF_dist= 0.00019826892637488718\n",
      "VF_iter= 102 , VF_dist= 0.00016060263222823434\n",
      "VF_iter= 103 , VF_dist= 0.00013007208914948322\n",
      "VF_iter= 104 , VF_dist= 0.00010533113514966658\n",
      "VF_iter= 105 , VF_dist= 8.528616229396427e-05\n",
      "VF_iter= 106 , VF_dist= 6.904902893257377e-05\n",
      "VF_iter= 107 , VF_dist= 5.589870321316742e-05\n",
      "VF_iter= 108 , VF_dist= 4.525002257121439e-05\n",
      "VF_iter= 109 , VF_dist= 3.662825367610994e-05\n",
      "VF_iter= 110 , VF_dist= 2.9648381681246225e-05\n",
      "VF_iter= 111 , VF_dist= 2.3998254978537002e-05\n",
      "VF_iter= 112 , VF_dist= 1.9424873007065634e-05\n",
      "VF_iter= 113 , VF_dist= 1.5723235679428987e-05\n",
      "VF_iter= 114 , VF_dist= 1.2727279645999217e-05\n",
      "VF_iter= 115 , VF_dist= 1.0302514483675015e-05\n",
      "VF_iter= 116 , VF_dist= 8.340042431197368e-06\n",
      "VF_iter= 117 , VF_dist= 6.751704205412122e-06\n",
      "VF_iter= 118 , VF_dist= 5.466140376498274e-06\n",
      "VF_iter= 119 , VF_dist= 4.42559714240225e-06\n",
      "VF_iter= 120 , VF_dist= 3.583336775436875e-06\n",
      "VF_iter= 121 , VF_dist= 2.901539091340844e-06\n",
      "VF_iter= 122 , VF_dist= 2.3496014072255056e-06\n",
      "VF_iter= 123 , VF_dist= 1.9027617851796584e-06\n",
      "VF_iter= 124 , VF_dist= 1.5409843213045383e-06\n",
      "VF_iter= 125 , VF_dist= 1.2480569001732003e-06\n",
      "VF_iter= 126 , VF_dist= 1.0108610125948636e-06\n",
      "VF_iter= 127 , VF_dist= 8.187809296630908e-07\n",
      "VF_iter= 128 , VF_dist= 6.632257169118157e-07\n",
      "VF_iter= 129 , VF_dist= 5.372425585805388e-07\n",
      "VF_iter= 130 , VF_dist= 4.3520397103795447e-07\n",
      "VF_iter= 131 , VF_dist= 3.5255480451104703e-07\n",
      "VF_iter= 132 , VF_dist= 2.8560758852959746e-07\n",
      "VF_iter= 133 , VF_dist= 2.31377000335186e-07\n",
      "VF_iter= 134 , VF_dist= 1.874459529856767e-07\n",
      "VF_iter= 135 , VF_dist= 1.518572692711769e-07\n",
      "VF_iter= 136 , VF_dist= 1.230260467631471e-07\n",
      "VF_iter= 137 , VF_dist= 9.96687436896293e-08\n",
      "VF_iter= 138 , VF_dist= 8.074580075632705e-08\n",
      "VF_iter= 139 , VF_dist= 6.541520848224666e-08\n",
      "VF_iter= 140 , VF_dist= 5.2994925457365206e-08\n",
      "VF_iter= 141 , VF_dist= 4.293245428977731e-08\n",
      "VF_iter= 142 , VF_dist= 3.478021764153471e-08\n",
      "VF_iter= 143 , VF_dist= 2.817561829067021e-08\n",
      "VF_iter= 144 , VF_dist= 2.2824894497326237e-08\n",
      "VF_iter= 145 , VF_dist= 1.8490046494598152e-08\n",
      "VF_iter= 146 , VF_dist= 1.4978246979620417e-08\n",
      "VF_iter= 147 , VF_dist= 1.2133266126703586e-08\n",
      "VF_iter= 148 , VF_dist= 9.82852376582313e-09\n"
     ]
    }
   ],
   "source": [
    "V_init = np.zeros((W_size, eps_size))\n",
    "V_new = V_init.copy()\n",
    "\n",
    "VF_iter = 0\n",
    "VF_dist = 10\n",
    "VF_maxiter = 200\n",
    "VF_mindist = 1e-8\n",
    "\n",
    "while (VF_iter < VF_maxiter) and (VF_dist > VF_mindist):\n",
    "    VF_iter += 1\n",
    "    V_init = V_new.copy()\n",
    "    V_new = np.zeros((W_size, eps_size))\n",
    "    psi_vec = np.zeros((W_size, eps_size))\n",
    "    \n",
    "    # Intergrate out eps_pr from V_init\n",
    "    Exp_V = V_init @ eps_prob.reshape((eps_size, 1))\n",
    "    \n",
    "    # Interpolate ? value function\n",
    "    Exp_V_interp = intpl.interp1d(W_vec, Exp_V.flatten(), kind='cubic',\n",
    "                                   fill_value='extrapolate')\n",
    "    \n",
    "    for eps_ind in range(eps_size):\n",
    "        for W_ind in range(W_size):\n",
    "            W = W_vec[W_ind]\n",
    "            eps = eps_vec[eps_ind]\n",
    "            V_args = (W, eps, util_CRRA, Exp_V_interp, gamma, beta)\n",
    "            results_all = opt.minimize_scalar(neg_V_iid, bounds=(1e-10, W - 1e-10),\n",
    "                                              args=V_args, method='bounded')\n",
    "            V_new[W_ind, eps_ind] = -results_all.fun\n",
    "            psi_vec[W_ind, eps_ind] = results_all.x\n",
    "\n",
    "    VF_dist = ((V_init - V_new) ** 2).sum()\n",
    "    print('VF_iter=', VF_iter, ', VF_dist=', VF_dist)"
   ]
  },
  {
   "cell_type": "code",
   "execution_count": null,
   "metadata": {},
   "outputs": [],
   "source": []
  },
  {
   "cell_type": "markdown",
   "metadata": {},
   "source": [
    "## Exer 2"
   ]
  },
  {
   "cell_type": "code",
   "execution_count": null,
   "metadata": {},
   "outputs": [],
   "source": [
    "trans_mat = np.array([[0.40, 0.28, 0.20, 0.10, 0.04],\n",
    "                      [0.20, 0.40, 0.20, 0.13, 0.07],\n",
    "                      [0.10, 0.20, ])"
   ]
  }
 ],
 "metadata": {
  "anaconda-cloud": {},
  "kernelspec": {
   "display_name": "Python 3",
   "language": "python",
   "name": "python3"
  },
  "language_info": {
   "codemirror_mode": {
    "name": "ipython",
    "version": 3
   },
   "file_extension": ".py",
   "mimetype": "text/x-python",
   "name": "python",
   "nbconvert_exporter": "python",
   "pygments_lexer": "ipython3",
   "version": "3.6.8"
  }
 },
 "nbformat": 4,
 "nbformat_minor": 1
}
